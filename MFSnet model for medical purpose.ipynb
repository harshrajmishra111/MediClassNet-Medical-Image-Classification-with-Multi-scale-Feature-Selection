{
 "cells": [
  {
   "cell_type": "markdown",
   "id": "61e7f364",
   "metadata": {},
   "source": [
    "# Data Preparation "
   ]
  },
  {
   "cell_type": "code",
   "execution_count": 1,
   "id": "b4fb9389",
   "metadata": {},
   "outputs": [
    {
     "name": "stdout",
     "output_type": "stream",
     "text": [
      "Dataset loaded successfully.\n",
      "Total images: 1000\n",
      "Total masks: 1000\n",
      "Dataset split into training, validation, and test sets:\n",
      "- Training images: 600\n",
      "- Validation images: 200\n",
      "- Test images: 200\n",
      "Processed 600 images and 600 masks.\n",
      "Processed 200 images and 200 masks.\n",
      "Processed 200 images and 200 masks.\n",
      "Datasets preprocessed and balanced successfully. Ready for model training and evaluation.\n"
     ]
    }
   ],
   "source": [
    "import numpy as np\n",
    "from glob import glob\n",
    "from PIL import Image\n",
    "from sklearn.model_selection import train_test_split\n",
    "import random\n",
    "\n",
    "# Define paths to the dataset\n",
    "dataset_path = '/Users/harshrajmishra/Documents/Lakshitha Fr/Kvasir-SEG'\n",
    "images_path = f'{dataset_path}/images/'\n",
    "masks_path = f'{dataset_path}/masks/'\n",
    "\n",
    "# Load dataset file paths\n",
    "image_files = sorted(glob(images_path + '*.jpg'))\n",
    "mask_files = sorted(glob(masks_path + '*.jpg'))\n",
    "\n",
    "print(\"Dataset loaded successfully.\")\n",
    "print(f\"Total images: {len(image_files)}\")\n",
    "print(f\"Total masks: {len(mask_files)}\")\n",
    "\n",
    "# Simplified balancing function (random oversampling)\n",
    "def balance_dataset(image_paths, mask_paths):\n",
    "    max_size = max(len(image_paths), len(mask_paths))\n",
    "    balanced_img_paths = random.choices(image_paths, k=max_size)\n",
    "    balanced_mask_paths = random.choices(mask_paths, k=max_size)\n",
    "    return balanced_img_paths, balanced_mask_paths\n",
    "\n",
    "# Balance the dataset\n",
    "balanced_image_files, balanced_mask_files = balance_dataset(image_files, mask_files)\n",
    "\n",
    "# Split dataset into training, validation, and test sets\n",
    "# First split: separate 20% of data for testing\n",
    "train_val_imgs, test_imgs, train_val_masks, test_masks = train_test_split(balanced_image_files, balanced_mask_files, test_size=0.2, random_state=42)\n",
    "\n",
    "# Second split: divide the remaining 80% of data into 75% training and 25% validation (which is 60% and 20% of the total dataset, respectively)\n",
    "train_imgs, val_imgs, train_masks, val_masks = train_test_split(train_val_imgs, train_val_masks, test_size=0.25, random_state=42) # 0.25 * 0.8 = 0.2\n",
    "\n",
    "print(\"Dataset split into training, validation, and test sets:\")\n",
    "print(f\"- Training images: {len(train_imgs)}\")\n",
    "print(f\"- Validation images: {len(val_imgs)}\")\n",
    "print(f\"- Test images: {len(test_imgs)}\")\n",
    "\n",
    "def load_image(path, target_size=(256, 256), grayscale=False):\n",
    "    \"\"\"Load an image from a file path and resize it.\"\"\"\n",
    "    img = Image.open(path)\n",
    "    img = img.resize(target_size)\n",
    "    if grayscale:\n",
    "        img = img.convert('L')  # Convert to grayscale\n",
    "    img = np.array(img, dtype=np.float32)\n",
    "    img /= 255.0  # Normalize to [0, 1]\n",
    "    return img\n",
    "\n",
    "def preprocess_dataset(image_paths, mask_paths):\n",
    "    \"\"\"Load and preprocess a list of image and mask paths.\"\"\"\n",
    "    images = [load_image(path) for path in image_paths]\n",
    "    masks = [load_image(path, grayscale=True, target_size=(256, 256)) for path in mask_paths]\n",
    "    masks = np.expand_dims(masks, axis=-1)  # Add channel dimension for masks\n",
    "    print(f\"Processed {len(images)} images and {len(masks)} masks.\")\n",
    "    return np.array(images), np.array(masks)\n",
    "\n",
    "# Preprocess training, validation, and test datasets\n",
    "train_images, train_masks = preprocess_dataset(train_imgs, train_masks)\n",
    "val_images, val_masks = preprocess_dataset(val_imgs, val_masks)\n",
    "test_images, test_masks = preprocess_dataset(test_imgs, test_masks)\n",
    "\n",
    "print(\"Datasets preprocessed and balanced successfully. Ready for model training and evaluation.\")\n"
   ]
  },
  {
   "cell_type": "code",
   "execution_count": 2,
   "id": "bbfed027",
   "metadata": {},
   "outputs": [],
   "source": [
    "def dice_coef(y_true, y_pred, smooth=1e-6):\n",
    "    y_true_f = tf.reshape(y_true, [-1])\n",
    "    y_pred_f = tf.reshape(y_pred, [-1])\n",
    "    intersection = tf.reduce_sum(y_true_f * y_pred_f)\n",
    "    return (2. * intersection + smooth) / (tf.reduce_sum(y_true_f) + tf.reduce_sum(y_pred_f) + smooth)\n",
    "\n",
    "def mean_iou(y_true, y_pred, num_classes=2):\n",
    "    miou = tf.keras.metrics.MeanIoU(num_classes=num_classes)\n",
    "    miou.update_state(y_true, y_pred)\n",
    "    return miou.result().numpy()"
   ]
  },
  {
   "cell_type": "markdown",
   "id": "1ea86d20",
   "metadata": {},
   "source": [
    "# MFSNet Model"
   ]
  },
  {
   "cell_type": "code",
   "execution_count": 3,
   "id": "8e79ac70",
   "metadata": {},
   "outputs": [],
   "source": [
    "import tensorflow as tf\n",
    "from tensorflow.keras.models import Model\n",
    "from tensorflow.keras.layers import Input, Conv2D, MaxPooling2D, concatenate, UpSampling2D, BatchNormalization, Activation, Conv2DTranspose, Dropout, Add, Multiply\n",
    "from tensorflow.keras.optimizers import Adam\n",
    "from tensorflow.keras.preprocessing.image import ImageDataGenerator\n",
    "from tensorflow.keras.callbacks import ReduceLROnPlateau\n",
    "import matplotlib.pyplot as plt\n",
    "\n",
    "def attention_block(x, g, inter_channel):\n",
    "    theta_x = Conv2D(inter_channel, [1, 1], strides=[2, 2], padding='same')(x)\n",
    "    phi_g = Conv2D(inter_channel, [1, 1], padding='same')(g)\n",
    "    concat = Add()([theta_x, phi_g])\n",
    "    act = Activation('relu')(concat)\n",
    "    psi = Conv2D(1, [1, 1], padding='same')(act)\n",
    "    sigmoid = Activation('sigmoid')(psi)\n",
    "    upsample_psi = UpSampling2D(size=(2, 2))(sigmoid)\n",
    "    y = Multiply()([upsample_psi, x])\n",
    "    return y\n",
    "\n",
    "def build_mfsnet_model(input_shape=(256, 256, 3), L=0.001):\n",
    "    inputs = Input(input_shape)\n",
    "    \n",
    "    # Encoder\n",
    "    conv1 = Conv2D(32, (3, 3), activation='relu', padding='same')(inputs)\n",
    "    conv1 = BatchNormalization()(conv1)\n",
    "    pool1 = MaxPooling2D(pool_size=(2, 2))(conv1)\n",
    "    \n",
    "    # Bottleneck\n",
    "    conv2 = Conv2D(64, (3, 3), activation='relu', padding='same')(pool1)\n",
    "    conv2 = BatchNormalization()(conv2)\n",
    "    \n",
    "    # Attention Mechanism\n",
    "    attention1 = attention_block(conv1, conv2, 32)\n",
    "    \n",
    "    # Decoder\n",
    "    up1 = Conv2DTranspose(32, (2, 2), strides=(2, 2), padding='same')(conv2)\n",
    "    merge1 = concatenate([attention1, up1], axis=-1)\n",
    "    conv3 = Conv2D(32, (3, 3), activation='relu', padding='same')(merge1)\n",
    "    conv3 = BatchNormalization()(conv3)\n",
    "    \n",
    "    outputs = Conv2D(1, (1, 1), activation='sigmoid')(conv3)\n",
    "    \n",
    "    model = Model(inputs=[inputs], outputs=[outputs])\n",
    "    model.compile(optimizer=Adam(learning_rate=L), loss='binary_crossentropy', metrics=['accuracy', dice_coef])\n",
    "    \n",
    "    return model\n"
   ]
  },
  {
   "cell_type": "markdown",
   "id": "281cc335",
   "metadata": {},
   "source": [
    "# Model training without data augmentation"
   ]
  },
  {
   "cell_type": "code",
   "execution_count": 4,
   "id": "730abc63",
   "metadata": {},
   "outputs": [
    {
     "name": "stderr",
     "output_type": "stream",
     "text": [
      "WARNING:absl:At this time, the v2.11+ optimizer `tf.keras.optimizers.Adam` runs slowly on M1/M2 Macs, please use the legacy Keras optimizer instead, located at `tf.keras.optimizers.legacy.Adam`.\n"
     ]
    },
    {
     "name": "stdout",
     "output_type": "stream",
     "text": [
      "Epoch 1/10\n",
      "10/10 [==============================] - 67s 6s/step - loss: 0.7032 - accuracy: 0.6329 - dice_coef: 0.2345 - val_loss: 0.6876 - val_accuracy: 0.5968 - val_dice_coef: 0.2496\n",
      "Epoch 2/10\n",
      "10/10 [==============================] - 65s 6s/step - loss: 0.4858 - accuracy: 0.8345 - dice_coef: 0.2173 - val_loss: 0.4986 - val_accuracy: 0.8233 - val_dice_coef: 0.2213\n",
      "Epoch 3/10\n",
      "10/10 [==============================] - 69s 7s/step - loss: 0.4272 - accuracy: 0.8391 - dice_coef: 0.1881 - val_loss: 0.4463 - val_accuracy: 0.8487 - val_dice_coef: 0.2177\n",
      "Epoch 4/10\n",
      "10/10 [==============================] - 78s 8s/step - loss: 0.4142 - accuracy: 0.8391 - dice_coef: 0.1718 - val_loss: 0.4492 - val_accuracy: 0.8236 - val_dice_coef: 0.2196\n",
      "Epoch 5/10\n",
      "10/10 [==============================] - 85s 9s/step - loss: 0.4128 - accuracy: 0.8391 - dice_coef: 0.1751 - val_loss: 0.4244 - val_accuracy: 0.8488 - val_dice_coef: 0.2074\n",
      "Epoch 6/10\n",
      "10/10 [==============================] - 126s 13s/step - loss: 0.4102 - accuracy: 0.8391 - dice_coef: 0.1812 - val_loss: 0.4257 - val_accuracy: 0.8488 - val_dice_coef: 0.2076\n",
      "Epoch 7/10\n",
      "10/10 [==============================] - 169s 17s/step - loss: 0.4097 - accuracy: 0.8391 - dice_coef: 0.1855 - val_loss: 0.4296 - val_accuracy: 0.8488 - val_dice_coef: 0.2106\n",
      "Epoch 8/10\n",
      "10/10 [==============================] - 161s 16s/step - loss: 0.4092 - accuracy: 0.8391 - dice_coef: 0.1832 - val_loss: 0.4242 - val_accuracy: 0.8488 - val_dice_coef: 0.2083\n",
      "Epoch 9/10\n",
      "10/10 [==============================] - 175s 18s/step - loss: 0.4086 - accuracy: 0.8391 - dice_coef: 0.1839 - val_loss: 0.4179 - val_accuracy: 0.8488 - val_dice_coef: 0.2029\n",
      "Epoch 10/10\n",
      "10/10 [==============================] - 163s 16s/step - loss: 0.4086 - accuracy: 0.8391 - dice_coef: 0.1851 - val_loss: 0.4105 - val_accuracy: 0.8488 - val_dice_coef: 0.1958\n"
     ]
    }
   ],
   "source": [
    "# Model training without data augmentation\n",
    "model_no_aug = build_mfsnet_model(L=0.01)  \n",
    "history_no_aug = model_no_aug.fit(train_images, train_masks, validation_data=(val_images, val_masks), epochs=10, batch_size=64)"
   ]
  },
  {
   "cell_type": "markdown",
   "id": "6c3a9fc7",
   "metadata": {},
   "source": [
    "# Model training with data augmentation"
   ]
  },
  {
   "cell_type": "code",
   "execution_count": 5,
   "id": "a23cfb62",
   "metadata": {},
   "outputs": [
    {
     "name": "stderr",
     "output_type": "stream",
     "text": [
      "WARNING:absl:At this time, the v2.11+ optimizer `tf.keras.optimizers.Adam` runs slowly on M1/M2 Macs, please use the legacy Keras optimizer instead, located at `tf.keras.optimizers.legacy.Adam`.\n"
     ]
    },
    {
     "name": "stdout",
     "output_type": "stream",
     "text": [
      "Epoch 1/10\n",
      "18/18 [==============================] - 90s 5s/step - loss: 0.7006 - accuracy: 0.5331 - dice_coef: 0.2444 - val_loss: 0.6483 - val_accuracy: 0.8488 - val_dice_coef: 0.2258 - lr: 0.0010\n",
      "Epoch 2/10\n",
      "18/18 [==============================] - 98s 5s/step - loss: 0.6217 - accuracy: 0.6838 - dice_coef: 0.2413 - val_loss: 0.6106 - val_accuracy: 0.8488 - val_dice_coef: 0.2228 - lr: 0.0010\n",
      "Epoch 3/10\n",
      "18/18 [==============================] - 94s 5s/step - loss: 0.5808 - accuracy: 0.7887 - dice_coef: 0.2350 - val_loss: 0.5659 - val_accuracy: 0.8488 - val_dice_coef: 0.2155 - lr: 0.0010\n",
      "Epoch 4/10\n",
      "18/18 [==============================] - 85s 5s/step - loss: 0.5411 - accuracy: 0.8267 - dice_coef: 0.2323 - val_loss: 0.5397 - val_accuracy: 0.8488 - val_dice_coef: 0.2120 - lr: 0.0010\n",
      "Epoch 5/10\n",
      "18/18 [==============================] - 85s 5s/step - loss: 0.5077 - accuracy: 0.8313 - dice_coef: 0.2248 - val_loss: 0.5050 - val_accuracy: 0.8488 - val_dice_coef: 0.2059 - lr: 0.0010\n",
      "Epoch 6/10\n",
      "18/18 [==============================] - 87s 5s/step - loss: 0.4812 - accuracy: 0.8304 - dice_coef: 0.2181 - val_loss: 0.4812 - val_accuracy: 0.8488 - val_dice_coef: 0.2007 - lr: 0.0010\n",
      "Epoch 7/10\n",
      "18/18 [==============================] - 97s 5s/step - loss: 0.4572 - accuracy: 0.8330 - dice_coef: 0.2084 - val_loss: 0.4637 - val_accuracy: 0.8488 - val_dice_coef: 0.1962 - lr: 0.0010\n",
      "Epoch 8/10\n",
      "18/18 [==============================] - 104s 6s/step - loss: 0.4434 - accuracy: 0.8298 - dice_coef: 0.2103 - val_loss: 0.4400 - val_accuracy: 0.8488 - val_dice_coef: 0.1888 - lr: 0.0010\n",
      "Epoch 9/10\n",
      "18/18 [==============================] - 138s 7s/step - loss: 0.4293 - accuracy: 0.8345 - dice_coef: 0.1955 - val_loss: 0.4281 - val_accuracy: 0.8488 - val_dice_coef: 0.1802 - lr: 0.0010\n",
      "Epoch 10/10\n",
      "18/18 [==============================] - 140s 8s/step - loss: 0.4251 - accuracy: 0.8335 - dice_coef: 0.1927 - val_loss: 0.4201 - val_accuracy: 0.8488 - val_dice_coef: 0.1715 - lr: 0.0010\n"
     ]
    }
   ],
   "source": [
    "# Model training with data augmentation\n",
    "model_aug = build_mfsnet_model(L=0.001) \n",
    "data_gen_args = dict(rotation_range=20, width_shift_range=0.1, height_shift_range=0.1, zoom_range=0.2, horizontal_flip=True, fill_mode='nearest')\n",
    "image_datagen = ImageDataGenerator(**data_gen_args)\n",
    "mask_datagen = ImageDataGenerator(**data_gen_args)\n",
    "\n",
    "image_generator = image_datagen.flow(train_images, batch_size=32)\n",
    "mask_generator = mask_datagen.flow(train_masks, batch_size=32)\n",
    "train_generator = zip(image_generator, mask_generator)\n",
    "\n",
    "reduce_lr = ReduceLROnPlateau(monitor='val_loss', factor=0.1, patience=5)\n",
    "\n",
    "history_aug = model_aug.fit(train_generator, steps_per_epoch=len(train_images) / 32, epochs=10, validation_data=(val_images, val_masks), callbacks=[reduce_lr])\n"
   ]
  },
  {
   "cell_type": "markdown",
   "id": "ba88aa8d",
   "metadata": {},
   "source": [
    "# Evaluation"
   ]
  },
  {
   "cell_type": "code",
   "execution_count": 6,
   "id": "60b77ed9",
   "metadata": {},
   "outputs": [
    {
     "name": "stdout",
     "output_type": "stream",
     "text": [
      "7/7 [==============================] - 14s 2s/step\n",
      "7/7 [==============================] - 13s 2s/step\n",
      "No Augmentation - Dice Coefficient: 0.1891413\n",
      "No Augmentation - Mean IoU: 0.43026498\n",
      "With Augmentation - Dice Coefficient: 0.16938108\n",
      "With Augmentation - Mean IoU: 0.43026498\n"
     ]
    },
    {
     "data": {
      "image/png": "[encoded data removed]",
      "text/plain": [
       "<Figure size 1000x500 with 2 Axes>"
      ]
     },
     "metadata": {},
     "output_type": "display_data"
    }
   ],
   "source": [
    "# Evaluation\n",
    "val_preds_no_aug = model_no_aug.predict(val_images)\n",
    "val_preds_aug = model_aug.predict(val_images)\n",
    "print(\"No Augmentation - Dice Coefficient:\", dice_coef(val_masks, val_preds_no_aug).numpy())\n",
    "print(\"No Augmentation - Mean IoU:\", mean_iou(val_masks, val_preds_no_aug))\n",
    "print(\"With Augmentation - Dice Coefficient:\", dice_coef(val_masks, val_preds_aug).numpy())\n",
    "print(\"With Augmentation - Mean IoU:\", mean_iou(val_masks, val_preds_aug))\n",
    "\n",
    "# Plotting training and validation accuracy\n",
    "plt.figure(figsize=(10, 5))\n",
    "plt.subplot(1, 2, 1)\n",
    "plt.plot(history_no_aug.history['accuracy'], label='Training Accuracy (No Aug)')\n",
    "plt.plot(history_no_aug.history['val_accuracy'], label='Validation Accuracy (No Aug)')\n",
    "plt.title('Model Performance Without Augmentation')\n",
    "plt.xlabel('Epoch')\n",
    "plt.ylabel('Accuracy')\n",
    "plt.legend()\n",
    "\n",
    "plt.subplot(1, 2, 2)\n",
    "plt.plot(history_aug.history['accuracy'], label='Training Accuracy (With Aug)')\n",
    "plt.plot(history_aug.history['val_accuracy'], label='Validation Accuracy (With Aug)')\n",
    "plt.title('Model Performance With Augmentation')\n",
    "plt.xlabel('Epoch')\n",
    "plt.ylabel('Accuracy')\n",
    "plt.legend()\n",
    "\n",
    "plt.tight_layout()\n",
    "plt.show()"
   ]
  },
  {
   "cell_type": "code",
   "execution_count": null,
   "id": "796a3d2b",
   "metadata": {},
   "outputs": [],
   "source": []
  }
 ],
 "metadata": {
  "kernelspec": {
   "display_name": "Python 3 (ipykernel)",
   "language": "python",
   "name": "python3"
  },
  "language_info": {
   "codemirror_mode": {
    "name": "ipython",
    "version": 3
   },
   "file_extension": ".py",
   "mimetype": "text/x-python",
   "name": "python",
   "nbconvert_exporter": "python",
   "pygments_lexer": "ipython3",
   "version": "3.11.5"
  }
 },
 "nbformat": 4,
 "nbformat_minor": 5
}
 
